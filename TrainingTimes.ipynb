{
 "cells": [
  {
   "cell_type": "code",
   "execution_count": null,
   "id": "8d32c641-7188-47e4-aaa8-33cbf54069be",
   "metadata": {},
   "outputs": [],
   "source": [
    "import sys\n",
    "import os\n",
    "import torch.optim as optim\n",
    "import torch.nn as nn\n",
    "import torch\n",
    "import matplotlib.pyplot as plt\n",
    "import numpy as np\n",
    "import time\n",
    "\n",
    "from torch.optim.lr_scheduler import ReduceLROnPlateau\n",
    "from torch.optim.lr_scheduler import LambdaLR\n",
    "\n",
    "# Get the directory containing the notebook\n",
    "notebook_dir = os.path.dirname(os.path.abspath(\"__file__\"))\n",
    "\n",
    "# Add the directory containing the notebook to sys.path\n",
    "sys.path.append(notebook_dir)\n",
    "\n",
    "# Add the parent directory (which contains the 'dataloaders' directory) to sys.path\n",
    "parent_dir = os.path.abspath(os.path.join(notebook_dir, '.'))\n",
    "sys.path.append(parent_dir)\n"
   ]
  },
  {
   "cell_type": "code",
   "execution_count": null,
   "id": "82989979-5677-4473-b231-ac1c66185766",
   "metadata": {},
   "outputs": [],
   "source": [
    "from functions.loader import getLoader\n",
    "from functions.display_things import *\n",
    "from functions.trainFuncs import a_proper_training\n",
    "from functions.STGCN import STGCN\n"
   ]
  },
  {
   "cell_type": "code",
   "execution_count": null,
   "id": "3c50a304-98cf-460c-b515-9adcf2320372",
   "metadata": {},
   "outputs": [],
   "source": [
    "from TransferLearn_Evaluate_TL_FineTuning import do_da_test as finetune_all\n",
    "from TransferLearn_Evaluate_TL_FineTune_last_transformer_layer import do_da_test as finetune_last_transformer\n",
    "from TransferLearn_Evaluate_TL_FineTune_last_GCN_layer import do_da_test as finetune_last_gcn\n",
    "from TransferLearn_Evaluate_TL_FineTuning_GCNAdapter import do_da_test as GCNAdapter\n",
    "\n",
    "tests = []\n",
    "tests.append(finetune_all)\n",
    "tests.append(finetune_last_transformer)\n",
    "tests.append(finetune_last_gcn)\n",
    "tests.append(GCNAdapter)\n",
    "\n",
    "test_names = []\n",
    "test_names.append(\"finetune_all\")\n",
    "test_names.append(\"finetune_last_transformer\")\n",
    "test_names.append(\"finetune_last_gcn\")\n",
    "test_names.append(\"GCNAdapter\")\n",
    "\n"
   ]
  },
  {
   "cell_type": "code",
   "execution_count": null,
   "id": "58e13b23-3f00-4379-bbdb-c0c098b5bb82",
   "metadata": {},
   "outputs": [],
   "source": [
    "\n",
    "epochs = 10\n",
    "\n",
    "for test, test_name in zip(tests, test_names):\n",
    "    \n",
    "    subsamples = [0.01]\n",
    "    \n",
    "    for subsample in subsamples:\n",
    "        start_time = time.time()\n",
    "        \n",
    "        best_model, train_losses, val_losses, test_losses, best_epoch = test(pretrain_station=\"varnamo\",\n",
    "                                                                             finetune_station=\"varberg\",\n",
    "                                                                             pretrain_seed=42,\n",
    "                                                                             finetune_seed=47,\n",
    "                                                                             epochs=epochs,\n",
    "                                                                             subsample=subsample,\n",
    "                                                                             verbose=False)\n",
    "        \n",
    "        end_time = time.time()\n",
    "        diff = round((end_time - start_time) / epochs, 5)\n",
    "\n",
    "        print(f\"{test_name}, {str(subsample)}: {diff}\")\n",
    "\n",
    "      "
   ]
  },
  {
   "cell_type": "markdown",
   "id": "dc03344e-c4cb-4784-874c-5b75f0c34615",
   "metadata": {},
   "source": [
    "finetune_all, 0.05: 88.44916\n",
    "finetune_all, 0.2: 136.76288\n",
    "finetune_all, 0.5: 245.15021\n",
    "finetune_all, 1: 422.81092\n",
    "finetune_last_transformer, 0.05: 81.31275\n",
    "finetune_last_transformer, 0.2: 114.99\n",
    "finetune_last_transformer, 0.5: 187.12083\n",
    "finetune_last_transformer, 1: 308.47978\n",
    "finetune_last_gcn, 0.05: 86.66891\n",
    "finetune_last_gcn, 0.2: 132.66545\n",
    "finetune_last_gcn, 0.5: 233.48303\n",
    "finetune_last_gcn, 1: 399.13228\n",
    "GCNAdapter, 0.05: 84.10472\n",
    "GCNAdapter, 0.2: 133.76282\n",
    "GCNAdapter, 0.5: 238.04807\n",
    "GCNAdapter, 1: 400.84641"
   ]
  },
  {
   "cell_type": "code",
   "execution_count": null,
   "id": "55bcf3b8-ca07-47a4-8fa5-ed6124b92cd8",
   "metadata": {},
   "outputs": [],
   "source": []
  }
 ],
 "metadata": {
  "kernelspec": {
   "display_name": "Python 3 (ipykernel)",
   "language": "python",
   "name": "python3"
  },
  "language_info": {
   "codemirror_mode": {
    "name": "ipython",
    "version": 3
   },
   "file_extension": ".py",
   "mimetype": "text/x-python",
   "name": "python",
   "nbconvert_exporter": "python",
   "pygments_lexer": "ipython3",
   "version": "3.12.6"
  }
 },
 "nbformat": 4,
 "nbformat_minor": 5
}
