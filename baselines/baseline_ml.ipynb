{
 "cells": [
  {
   "cell_type": "code",
   "execution_count": null,
   "metadata": {},
   "outputs": [],
   "source": [
    "!pip install statsmodels"
   ]
  },
  {
   "cell_type": "code",
   "execution_count": null,
   "metadata": {},
   "outputs": [],
   "source": [
    "import numpy as np\n",
    "import pandas as pd\n",
    "import matplotlib.pyplot as plt\n",
    "from sklearn.preprocessing import MinMaxScaler\n",
    "from sklearn.model_selection import train_test_split\n",
    "from sklearn.metrics import f1_score\n",
    "from sklearn.metrics import mean_squared_error\n",
    "import seaborn as sns\n",
    "\n",
    "from sklearn.preprocessing import MinMaxScaler\n",
    "import time\n",
    "\n",
    "import random\n",
    "\n",
    "from statsmodels.tsa.ar_model import AutoReg\n",
    "from statsmodels.graphics.tsaplots import plot_pacf, plot_acf\n",
    "from statsmodels.tsa.arima.model import ARIMA\n",
    "import statsmodels.api as sm\n"
   ]
  },
  {
   "cell_type": "code",
   "execution_count": null,
   "metadata": {},
   "outputs": [],
   "source": [
    "timesteps = 36"
   ]
  },
  {
   "cell_type": "code",
   "execution_count": null,
   "metadata": {},
   "outputs": [],
   "source": [
    "data = pd.read_csv('station_153211-2022-09_2023-01.csv')\n",
    "print(len(data))\n",
    "ts = data['available_count']\n",
    "\n",
    "ts = (ts - ts.min()) / (ts.max() - ts.min())\n",
    "ts\n"
   ]
  },
  {
   "cell_type": "code",
   "execution_count": null,
   "metadata": {},
   "outputs": [],
   "source": [
    "plot_pacf(ts, lags=50)\n",
    "plt.show()\n",
    "\n",
    "plot_acf(ts, lags=500) \n",
    "plt.show()\n",
    "\n",
    "# Assuming `ts` is your time series data stored as a pandas Series\n",
    "result = sm.tsa.adfuller(ts)\n",
    "\n",
    "# Print the test results\n",
    "print('ADF Statistic: %f' % result[0])\n",
    "print('p-value: %f' % result[1])\n",
    "print('Critical Values:')\n",
    "for key, value in result[4].items():\n",
    "    print('\\t%s: %.3f' % (key, value))\n",
    "\n",
    "# Interpretation based on p-value\n",
    "if result[1] < 0.05:\n",
    "    print(\"Strong evidence against the null hypothesis (Ho), reject the null hypothesis. Data has no unit root and is stationary.\")\n",
    "else:\n",
    "    print(\"Weak evidence against the null hypothesis, time series has a unit root, indicating it is non-stationary.\")\n",
    "\n"
   ]
  },
  {
   "cell_type": "markdown",
   "metadata": {},
   "source": [
    "### AR (Auto Regression)"
   ]
  },
  {
   "cell_type": "code",
   "execution_count": null,
   "metadata": {},
   "outputs": [],
   "source": [
    "p = 18\n",
    "\n",
    "model = AutoReg(ts[:-timesteps], lags=p)\n",
    "model_fitted = model.fit()\n",
    "\n",
    "start = len(data) - timesteps\n",
    "end = start + timesteps \n",
    "\n",
    "predictions_AR = model_fitted.predict(start=start, end=end-1, dynamic=False)\n",
    "true_values = ts[len(data)-timesteps:len(data)]  # Adjust the slicing here\n",
    "true_values_for_graph = ts[len(data)-timesteps*3:len(data)]  # Adjust the slicing here\n",
    "\n",
    "plt.plot(predictions_AR, label=\"Predictions\")\n",
    "plt.plot(true_values_for_graph, label=\"True Values\")\n",
    "plt.legend()\n",
    "\n",
    "mse_AR = mean_squared_error(true_values, predictions_AR)\n",
    "print(mse_AR)\n"
   ]
  },
  {
   "cell_type": "markdown",
   "metadata": {},
   "source": [
    "### MA (Moving Average)"
   ]
  },
  {
   "cell_type": "code",
   "execution_count": null,
   "metadata": {},
   "outputs": [],
   "source": [
    "# Fit the MA model (let's assume q=2 based on the ACF plot)\n",
    "model = ARIMA(ts[:-timesteps], order=(0,0,80))\n",
    "model_fitted = model.fit()\n",
    "\n",
    "predictions_MA = model_fitted.predict(start=start, end=end-1)\n",
    "\n",
    "\n",
    "plt.plot(predictions_MA, label=\"Predictions\")\n",
    "plt.plot(true_values_for_graph, label=\"True Values\")\n",
    "plt.legend()\n",
    "\n",
    "# Calculate MSE at every 10-minute interval, assuming each timestep is 5 minutes\n",
    "# Start with the first 10 minutes (2 timesteps) and increment by one timestep (5 minutes) each iteration\n",
    "mse_MA = mean_squared_error(true_values, predictions_MA)\n",
    "print(mse_MA)\n"
   ]
  },
  {
   "cell_type": "markdown",
   "metadata": {},
   "source": [
    "### ARIMA"
   ]
  },
  {
   "cell_type": "code",
   "execution_count": null,
   "metadata": {},
   "outputs": [],
   "source": [
    "# Fit the MA model (let's assume q=2 based on the ACF plot)\n",
    "model = ARIMA(ts[:-timesteps], order=(p,0,80))  # ARIMA(p=0,d=0,q=2) is equivalent to MA(q=2)\n",
    "model_fitted = model.fit()\n",
    "\n",
    "predictions_ARIMA = model_fitted.predict(start=start, end=end-1)\n",
    "\n",
    "plt.plot(predictions_ARIMA, label=\"Predictions\")\n",
    "plt.plot(true_values_for_graph, label=\"True Values\")\n",
    "plt.legend()\n",
    "\n",
    "# Calculate MSE at every 10-minute interval, assuming each timestep is 5 minutes\n",
    "# Start with the first 10 minutes (2 timesteps) and increment by one timestep (5 minutes) each iteration\n",
    "mse_ARIMA = mean_squared_error(true_values, predictions_ARIMA)\n",
    "print(mse_ARIMA)\n"
   ]
  },
  {
   "cell_type": "markdown",
   "metadata": {},
   "source": [
    "### SARIMA"
   ]
  },
  {
   "cell_type": "code",
   "execution_count": null,
   "metadata": {},
   "outputs": [],
   "source": [
    "\n",
    "# Define the SARIMA model parameters\n",
    "p = 1  # Autoregressive order\n",
    "d = 0  # Differencing order\n",
    "q = 1  # Moving average order\n",
    "P = 1  # Seasonal autoregressive order\n",
    "D = 0  # Seasonal differencing order\n",
    "Q = 1  # Seasonal moving average order\n",
    "s = 90  # Seasonal length in time steps\n",
    "\n",
    "# Fit the SARIMA model\n",
    "model = sm.tsa.SARIMAX(ts, order=(p,d,q), seasonal_order=(P,D,Q,s))\n",
    "model_fitted = model.fit()\n",
    "\n",
    "# Make forecasts\n",
    "n_periods = 24  # Number of periods to forecast\n",
    "forecast = model_fitted.get_forecast(steps=n_periods)\n",
    "forecast_index = pd.date_range(ts.index[-1], periods=n_periods+1, freq='M')[1:]\n",
    "forecast_mean = forecast.predicted_mean\n",
    "forecast_ci = forecast.conf_int()\n",
    "\n",
    "# Plot the time series and forecasts\n",
    "plt.figure(figsize=(10, 5))\n",
    "plt.plot(ts, label='Observed')\n",
    "plt.plot(forecast_index, forecast_mean, label='Forecast')\n",
    "plt.fill_between(forecast_index, forecast_ci.iloc[:, 0], forecast_ci.iloc[:, 1], color='grey', alpha=0.3)\n",
    "plt.legend()\n",
    "plt.show()\n",
    "\n",
    "# Print the forecast values\n",
    "print(forecast_mean)"
   ]
  },
  {
   "cell_type": "code",
   "execution_count": null,
   "metadata": {},
   "outputs": [],
   "source": []
  }
 ],
 "metadata": {
  "kernelspec": {
   "display_name": "Python 3 (ipykernel)",
   "language": "python",
   "name": "python3"
  },
  "language_info": {
   "codemirror_mode": {
    "name": "ipython",
    "version": 3
   },
   "file_extension": ".py",
   "mimetype": "text/x-python",
   "name": "python",
   "nbconvert_exporter": "python",
   "pygments_lexer": "ipython3",
   "version": "3.12.6"
  }
 },
 "nbformat": 4,
 "nbformat_minor": 4
}
