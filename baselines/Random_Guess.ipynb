{
 "cells": [
  {
   "cell_type": "code",
   "execution_count": null,
   "id": "6aec6c81-c6ec-4b63-b22b-62179ffabacb",
   "metadata": {},
   "outputs": [],
   "source": [
    "import numpy as np\n",
    "import pandas as pd\n",
    "import matplotlib.pyplot as plt\n",
    "from sklearn.preprocessing import MinMaxScaler\n",
    "from sklearn.model_selection import train_test_split\n",
    "\n",
    "from sklearn.preprocessing import MinMaxScaler\n",
    "import time\n",
    "\n",
    "import random\n",
    "\n",
    "import torch\n",
    "import torch.nn as nn\n",
    "import torch.nn.functional as F\n",
    "\n",
    "\n",
    "import torch.optim as optim\n",
    "\n",
    "import copy\n",
    "import matplotlib.pyplot as plt\n",
    "import math\n",
    "\n",
    "import os\n",
    "os.environ['KMP_DUPLICATE_LIB_OK']='True'\n",
    "\n"
   ]
  },
  {
   "cell_type": "code",
   "execution_count": null,
   "id": "df6b57a1-9c15-499b-8a85-d6febcaeef0b",
   "metadata": {},
   "outputs": [],
   "source": [
    "data = pd.read_csv('station_153211-2022-09_2023-01.csv')\n"
   ]
  },
  {
   "cell_type": "code",
   "execution_count": null,
   "id": "d48a5b7a-4e1d-4d03-93d3-abc394f28cbe",
   "metadata": {},
   "outputs": [],
   "source": [
    "# Adding / removing columns.\n",
    "data['DateTime'] = pd.to_datetime(data['created_at'], infer_datetime_format=True)\n",
    "data.set_index('DateTime', inplace=True)\n",
    "data['day_of_week'] = data.index.dayofweek\n",
    "data['month'] = data.index.month\n",
    "data['is_weekend'] = (data.index.dayofweek >= 5).astype(int)\n",
    "data['hour_bin'] = data.index.hour // 4 \n",
    "holidays = pd.to_datetime(['2022-12-31', '2022-12-23'])\n",
    "data['is_holiday'] = data.index.isin(holidays).astype(int)\n",
    "data.drop('created_at', axis=1, inplace=True)\n",
    "data.drop('station_id', axis=1, inplace=True)\n",
    "data.drop('available_count', axis=1, inplace=True)\n",
    "data.drop('outlet_count', axis=1, inplace=True)"
   ]
  },
  {
   "cell_type": "code",
   "execution_count": null,
   "id": "2b2237c3-274c-4d62-9cf1-443ea5517030",
   "metadata": {},
   "outputs": [],
   "source": [
    "data = data[~data.index.duplicated(keep='first')]\n",
    "\n",
    "start_date = data.index[5]\n",
    "end_date = data.index[-5]\n",
    "datetime_index = pd.date_range(start=start_date, end=end_date, freq='5T')\n",
    "\n",
    "data_r = pd.DataFrame(index=datetime_index, columns=data.columns)\n",
    "\n",
    "k = 10\n",
    "\n",
    "for target_time in datetime_index:\n",
    "\n",
    "    data_c = copy.copy(data)\n",
    "    data_c['time_difference'] = abs(data_c.index - target_time)\n",
    "    data_c_sorted = data_c.sort_values(by='time_difference')\n",
    "    k_closest_rows = data_c_sorted.head(k)\n",
    "    k_closest_rows= k_closest_rows.drop(columns=['time_difference'])\n",
    "    new_col = k_closest_rows.mean(axis=0)\n",
    "    data_r.loc[target_time] = new_col"
   ]
  },
  {
   "cell_type": "code",
   "execution_count": null,
   "id": "e9a6715e-c12a-4b51-919b-e74f7e429997",
   "metadata": {},
   "outputs": [],
   "source": [
    "\n",
    "scaler = MinMaxScaler()\n",
    "\n",
    "df_normalized = pd.DataFrame(scaler.fit_transform(data_r),\n",
    "                             index=data_r.index,\n",
    "                             columns=data_r.columns)\n",
    "\n",
    "print(df_normalized['is_holiday'].value_counts())\n",
    "(data['is_holiday'].value_counts())\n"
   ]
  },
  {
   "cell_type": "code",
   "execution_count": null,
   "id": "e5084662-2969-4458-b0b9-b904c4b07291",
   "metadata": {},
   "outputs": [],
   "source": [
    "all_labels = df_normalized['occupied_count']\n",
    "print(all_labels)"
   ]
  },
  {
   "cell_type": "code",
   "execution_count": null,
   "id": "71f3eca1-b30d-439a-aadc-9336e635fd41",
   "metadata": {},
   "outputs": [],
   "source": [
    "series_length = 36327\n",
    "random_numbers = pd.Series(np.random.rand(series_length))\n",
    "\n",
    "random_numbers.index = all_labels.index\n",
    "\n",
    "print(random_numbers)\n"
   ]
  },
  {
   "cell_type": "code",
   "execution_count": null,
   "id": "4a4e8849-600e-4c50-9824-72ed806ab9ec",
   "metadata": {},
   "outputs": [],
   "source": [
    "# Convert pandas Series to PyTorch tensors\n",
    "random_numbers_tensor = torch.tensor(random_numbers.values, dtype=torch.float32)\n",
    "all_labels_tensor = torch.tensor(all_labels.values, dtype=torch.float32)\n",
    "\n",
    "# Calculate mean squared error\n",
    "mse = F.mse_loss(random_numbers_tensor, all_labels_tensor)\n",
    "\n",
    "print(\"Mean Squared Error:\", mse.item())\n"
   ]
  },
  {
   "cell_type": "code",
   "execution_count": null,
   "id": "8164605a-0857-4925-886b-92f8d482de57",
   "metadata": {},
   "outputs": [],
   "source": [
    "mean_series = torch.tensor(pd.Series(all_labels.mean(), index=range(series_length)).values, dtype=torch.float32)\n",
    "\n",
    "# Calculate mean squared error\n",
    "mse = F.mse_loss(mean_series, all_labels_tensor)\n",
    "\n",
    "print(\"Mean Squared Error:\", mse.item())\n",
    "\n",
    "\n"
   ]
  },
  {
   "cell_type": "code",
   "execution_count": null,
   "id": "269780a7-a084-4c56-926f-1bfaa4f3db2b",
   "metadata": {},
   "outputs": [],
   "source": []
  }
 ],
 "metadata": {
  "kernelspec": {
   "display_name": "Python 3 (ipykernel)",
   "language": "python",
   "name": "python3"
  },
  "language_info": {
   "codemirror_mode": {
    "name": "ipython",
    "version": 3
   },
   "file_extension": ".py",
   "mimetype": "text/x-python",
   "name": "python",
   "nbconvert_exporter": "python",
   "pygments_lexer": "ipython3",
   "version": "3.12.6"
  }
 },
 "nbformat": 4,
 "nbformat_minor": 5
}
