{
 "cells": [
  {
   "cell_type": "code",
   "execution_count": null,
   "id": "731cfec7-dbc2-478d-8b18-933cbe652bb3",
   "metadata": {},
   "outputs": [],
   "source": [
    "import sys\n",
    "import os\n",
    "import torch.optim as optim\n",
    "import torch.nn as nn\n",
    "import torch\n",
    "import matplotlib.pyplot as plt\n",
    "\n",
    "from torch.optim.lr_scheduler import ReduceLROnPlateau\n",
    "from torch.optim.lr_scheduler import LambdaLR\n",
    "\n",
    "# Get the directory containing the notebook\n",
    "notebook_dir = os.path.dirname(os.path.abspath(\"__file__\"))\n",
    "\n",
    "# Add the directory containing the notebook to sys.path\n",
    "sys.path.append(notebook_dir)\n",
    "\n",
    "# Add the parent directory (which contains the 'dataloaders' directory) to sys.path\n",
    "parent_dir = os.path.abspath(os.path.join(notebook_dir, '.'))\n",
    "sys.path.append(parent_dir)\n"
   ]
  },
  {
   "cell_type": "code",
   "execution_count": null,
   "id": "0c8613b6",
   "metadata": {},
   "outputs": [],
   "source": [
    "from functions.loader import getLoader\n",
    "from functions.display_things import *\n",
    "from NEW_ABLATION_only_bottleneck_Attention_Dropout_SkipAndLN_Scaler_GCN_BRIDGE_ONLY_44 import *"
   ]
  },
  {
   "cell_type": "code",
   "execution_count": null,
   "id": "b1047763-19d7-4dbf-864f-c6e71c59a5c1",
   "metadata": {},
   "outputs": [],
   "source": [
    "subsamples = [0.01, 0.05, 0.2, 0.5]\n",
    "seeds = [47, 48, 51]\n",
    "\n",
    "for subsample in subsamples:\n",
    "\n",
    "    tot = 0\n",
    "    for seed in seeds:\n",
    "        best_model, train_losses, val_losses, test_losses, best_epoch = do_da_test(\"varberg\",\n",
    "                                                                                   random_seed=seed,\n",
    "                                                                                   epochs=75,\n",
    "                                                                                   subsample=subsample,\n",
    "                                                                                   verbose=True)\n",
    "        \n",
    "        print(\"seed,\", seed, \":\", test_losses[best_epoch])\n",
    "        tot += test_losses[best_epoch]\n",
    "        \n",
    "    avg = tot / len(seeds)\n",
    "    \n",
    "    print(\"for subsample\", subsample, \":\" ,avg)\n",
    "    print()"
   ]
  },
  {
   "cell_type": "code",
   "execution_count": null,
   "id": "1fe38527-ee7b-4d02-b10b-0645d16a0068",
   "metadata": {},
   "outputs": [],
   "source": []
  },
  {
   "cell_type": "code",
   "execution_count": null,
   "id": "42f54a78-fb94-4558-95bc-fcbb7a3c3964",
   "metadata": {},
   "outputs": [],
   "source": []
  },
  {
   "cell_type": "code",
   "execution_count": null,
   "id": "99bb3d6b-6b58-4889-bb53-d87e5885efef",
   "metadata": {},
   "outputs": [],
   "source": []
  }
 ],
 "metadata": {
  "kernelspec": {
   "display_name": "Python 3 (ipykernel)",
   "language": "python",
   "name": "python3"
  },
  "language_info": {
   "codemirror_mode": {
    "name": "ipython",
    "version": 3
   },
   "file_extension": ".py",
   "mimetype": "text/x-python",
   "name": "python",
   "nbconvert_exporter": "python",
   "pygments_lexer": "ipython3",
   "version": "3.9.13"
  }
 },
 "nbformat": 4,
 "nbformat_minor": 5
}
