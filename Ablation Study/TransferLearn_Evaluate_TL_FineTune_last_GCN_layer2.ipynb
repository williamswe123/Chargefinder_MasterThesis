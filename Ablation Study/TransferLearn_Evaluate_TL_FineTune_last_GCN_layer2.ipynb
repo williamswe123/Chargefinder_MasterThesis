{
 "cells": [
  {
   "cell_type": "code",
   "execution_count": null,
   "id": "731cfec7-dbc2-478d-8b18-933cbe652bb3",
   "metadata": {},
   "outputs": [],
   "source": [
    "import sys\n",
    "import os\n",
    "import torch.optim as optim\n",
    "import torch.nn as nn\n",
    "import torch\n",
    "import matplotlib.pyplot as plt\n",
    "\n",
    "from torch.optim.lr_scheduler import ReduceLROnPlateau\n",
    "from torch.optim.lr_scheduler import LambdaLR\n",
    "\n",
    "# Get the directory containing the notebook\n",
    "notebook_dir = os.path.dirname(os.path.abspath(\"__file__\"))\n",
    "\n",
    "# Add the directory containing the notebook to sys.path\n",
    "sys.path.append(notebook_dir)\n",
    "\n",
    "# Add the parent directory (which contains the 'dataloaders' directory) to sys.path\n",
    "parent_dir = os.path.abspath(os.path.join(notebook_dir, '.'))\n",
    "sys.path.append(parent_dir)\n"
   ]
  },
  {
   "cell_type": "code",
   "execution_count": null,
   "id": "0c8613b6",
   "metadata": {},
   "outputs": [],
   "source": [
    "from functions.loader import getLoader\n",
    "from functions.display_things import *\n",
    "from functions.trainFuncs import a_proper_training\n",
    "from functions.STGCN import STGCN\n",
    "from TransferLearn_Evaluate_TL_FineTune_last_GCN_layer import *\n"
   ]
  },
  {
   "cell_type": "code",
   "execution_count": null,
   "id": "b1047763-19d7-4dbf-864f-c6e71c59a5c1",
   "metadata": {},
   "outputs": [],
   "source": [
    "\n",
    "subsamples = [0.05, 0.2, 0.5, 1]\n",
    "seeds = [42, 43, 44, 45, 46, 47, 48, 49, 50, 51, 52]\n",
    "\n",
    "for subsample in subsamples:\n",
    "    \n",
    "    tot = 0\n",
    "    for seed in seeds:\n",
    "        best_model, train_losses, val_losses, test_losses, best_epoch = do_da_test(\"varberg\",\n",
    "                                                                                   random_seed=seed,\n",
    "                                                                                   epochs=20,\n",
    "                                                                                   subsample=subsample,\n",
    "                                                                                   verbose=False)\n",
    "        \n",
    "        print(\"seed,\", seed, \":\", test_losses[best_epoch])\n",
    "        tot += test_losses[best_epoch]\n",
    "        \n",
    "    avg = tot / len(seeds)\n",
    "    \n",
    "    print(\"for subsample\", subsample, \":\" ,avg)\n",
    "    print()\n",
    "    "
   ]
  },
  {
   "cell_type": "markdown",
   "id": "d05854b4-313a-4709-b4c9-96d872d707ff",
   "metadata": {},
   "source": [
    "Epoch 1/20: Train Loss=0.0001269044 Val Loss=0.0057141861 Test Loss=0.0052994878 Elapsed_time = 1.0mins"
   ]
  },
  {
   "cell_type": "code",
   "execution_count": null,
   "id": "688504d8-644f-4db4-95e2-e2d34db9a19b",
   "metadata": {},
   "outputs": [],
   "source": []
  }
 ],
 "metadata": {
  "kernelspec": {
   "display_name": "Python 3 (ipykernel)",
   "language": "python",
   "name": "python3"
  },
  "language_info": {
   "codemirror_mode": {
    "name": "ipython",
    "version": 3
   },
   "file_extension": ".py",
   "mimetype": "text/x-python",
   "name": "python",
   "nbconvert_exporter": "python",
   "pygments_lexer": "ipython3",
   "version": "3.9.13"
  }
 },
 "nbformat": 4,
 "nbformat_minor": 5
}
