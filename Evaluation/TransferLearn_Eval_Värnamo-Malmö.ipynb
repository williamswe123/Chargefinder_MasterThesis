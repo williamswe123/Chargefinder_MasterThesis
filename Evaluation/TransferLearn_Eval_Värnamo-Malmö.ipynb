{
 "cells": [
  {
   "cell_type": "code",
   "execution_count": null,
   "id": "731cfec7-dbc2-478d-8b18-933cbe652bb3",
   "metadata": {},
   "outputs": [],
   "source": [
    "import sys\n",
    "import os\n",
    "import torch.nn as nn\n",
    "import torch\n",
    "\n",
    "# Get the directory containing the notebook\n",
    "notebook_dir = os.path.dirname(os.path.abspath(\"__file__\"))\n",
    "\n",
    "# Add the directory containing the notebook to sys.path\n",
    "sys.path.append(notebook_dir)\n",
    "\n",
    "# Add the parent directory (which contains the 'dataloaders' directory) to sys.path\n",
    "parent_dir = os.path.abspath(os.path.join(notebook_dir, '.'))\n",
    "sys.path.append(parent_dir)\n",
    "\n"
   ]
  },
  {
   "cell_type": "code",
   "execution_count": null,
   "id": "0c8613b6",
   "metadata": {},
   "outputs": [],
   "source": [
    "from functions.loader import getLoader\n",
    "from functions.display_predictions import predictAndDisplay\n",
    "from functions.trainFuncs import a_proper_training\n",
    "from functions.STGCN import STGCN\n"
   ]
  },
  {
   "cell_type": "code",
   "execution_count": null,
   "id": "b1047763-19d7-4dbf-864f-c6e71c59a5c1",
   "metadata": {},
   "outputs": [],
   "source": [
    "station = \"malmo\"\n",
    "future_steps = 36\n",
    "seq_len = 576\n",
    "batch_size = 64\n",
    "random_seed = 42\n",
    "\n",
    "epochs = 10\n",
    "warmup_steps = int(epochs * 0.2)\n",
    "learning_rate = 0.01\n",
    "\n",
    "train_loader, val_loader, test_loader = getLoader(station=station, future_steps=future_steps,\n",
    "                                                  seq_len=seq_len, batch_size=batch_size,\n",
    "                                                  random_seed=random_seed)\n"
   ]
  },
  {
   "cell_type": "markdown",
   "id": "f4b74162-4137-4740-9820-8db48b603e9e",
   "metadata": {},
   "source": [
    "# Loading model"
   ]
  },
  {
   "cell_type": "code",
   "execution_count": null,
   "id": "4ab8ec62-efd1-4081-8d94-64786f378253",
   "metadata": {},
   "outputs": [],
   "source": [
    "best_model = STGCN(in_channels=1, gcn_layers=3, hidden_channels=4, transformer_hidden_size=12,\n",
    "                  transformer_num_layers=2, transformer_nhead=2, out_channels=1).cuda()\n",
    "\n",
    "# Load the state dictionary\n",
    "best_model.load_state_dict(torch.load('Transfer Learning/trained_on_varnamo.pth'))\n",
    "\n",
    "# Set the model to evaluation mode if you are testing (not training)\n",
    "best_model.eval()"
   ]
  },
  {
   "cell_type": "code",
   "execution_count": null,
   "id": "5a310850-abb0-4c78-99ae-7a0215f4f2b9",
   "metadata": {},
   "outputs": [],
   "source": [
    "predictAndDisplay(station, test_loader, best_model)"
   ]
  },
  {
   "cell_type": "code",
   "execution_count": null,
   "id": "147da2fd-9aa3-467f-8949-24034b0b477c",
   "metadata": {},
   "outputs": [],
   "source": []
  }
 ],
 "metadata": {
  "kernelspec": {
   "display_name": "Python 3 (ipykernel)",
   "language": "python",
   "name": "python3"
  },
  "language_info": {
   "codemirror_mode": {
    "name": "ipython",
    "version": 3
   },
   "file_extension": ".py",
   "mimetype": "text/x-python",
   "name": "python",
   "nbconvert_exporter": "python",
   "pygments_lexer": "ipython3",
   "version": "3.12.6"
  }
 },
 "nbformat": 4,
 "nbformat_minor": 5
}
