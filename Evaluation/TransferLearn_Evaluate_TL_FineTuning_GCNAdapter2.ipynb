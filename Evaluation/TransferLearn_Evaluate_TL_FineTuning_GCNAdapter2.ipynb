{
 "cells": [
  {
   "cell_type": "code",
   "execution_count": null,
   "id": "731cfec7-dbc2-478d-8b18-933cbe652bb3",
   "metadata": {},
   "outputs": [],
   "source": [
    "import sys\n",
    "import os\n",
    "import torch.optim as optim\n",
    "import torch.nn as nn\n",
    "import torch\n",
    "import matplotlib.pyplot as plt\n",
    "import numpy as np\n",
    "\n",
    "\n",
    "from torch.optim.lr_scheduler import ReduceLROnPlateau\n",
    "from torch.optim.lr_scheduler import LambdaLR\n",
    "\n",
    "# Get the directory containing the notebook\n",
    "notebook_dir = os.path.dirname(os.path.abspath(\"__file__\"))\n",
    "\n",
    "# Add the directory containing the notebook to sys.path\n",
    "sys.path.append(notebook_dir)\n",
    "\n",
    "# Add the parent directory (which contains the 'dataloaders' directory) to sys.path\n",
    "parent_dir = os.path.abspath(os.path.join(notebook_dir, '.'))\n",
    "sys.path.append(parent_dir)\n"
   ]
  },
  {
   "cell_type": "code",
   "execution_count": null,
   "id": "0c8613b6",
   "metadata": {},
   "outputs": [],
   "source": [
    "from functions.loader import getLoader\n",
    "from functions.display_things import *\n",
    "from functions.trainFuncs import a_proper_training\n",
    "from functions.STGCN import STGCN\n",
    "from TransferLearn_Evaluate_TL_FineTuning_GCNAdapter import *\n"
   ]
  },
  {
   "cell_type": "code",
   "execution_count": null,
   "id": "b1047763-19d7-4dbf-864f-c6e71c59a5c1",
   "metadata": {},
   "outputs": [],
   "source": [
    "\n",
    "subsamples = [0.05, 0.2, 0.5, 1]\n",
    "pretrain_seeds = [42, 43, 44]\n",
    "finetune_seeds = [47, 48, 51]\n",
    "\n",
    "\n",
    "for subsample in subsamples:\n",
    "\n",
    "    mse = []\n",
    "    for pretrain_seed in pretrain_seeds:\n",
    "        print()\n",
    "        print(\"\\tpretrained_seed\", \":\", pretrain_seed)\n",
    "        for finetune_seed in finetune_seeds:\n",
    "            best_model, train_losses, val_losses, test_losses, best_epoch = do_da_test(pretrain_station=\"varnamo\",\n",
    "                                                                                       finetune_station=\"varberg\",\n",
    "                                                                                       pretrain_seed=pretrain_seed,\n",
    "                                                                                       finetune_seed=finetune_seed,\n",
    "                                                                                       epochs=30,\n",
    "                                                                                       subsample=subsample,\n",
    "                                                                                       verbose=False)\n",
    "            print(\"\\t\\tfinetune seed,\", finetune_seed, \":\", test_losses[best_epoch])\n",
    "            mse.append(test_losses[best_epoch])\n",
    "            \n",
    "    avg = sum(mse) / len(mse)\n",
    "    std_div = np.std(mse)\n",
    "    \n",
    "    print(\"for subsample\", subsample, \", average:\" , avg, \", std div:\", std_div)\n",
    "    print()\n",
    "    "
   ]
  },
  {
   "cell_type": "markdown",
   "id": "7bae65ba-7da5-447b-9964-bfba541e8f46",
   "metadata": {},
   "source": [
    "### Old"
   ]
  },
  {
   "cell_type": "markdown",
   "id": "2c6450ab-f5e8-4f12-83d8-6ac904ba7ce4",
   "metadata": {},
   "source": [
    "\n",
    "\tpretrained_seed : 42\n",
    "\t\tfinetune seed, 42 : 0.007567690074542969\n",
    "\t\tfinetune seed, 43 : 0.007610446070551079\n",
    "\t\tfinetune seed, 43 : 0.007610445874017228\n",
    "\n",
    "\tpretrained_seed : 43\n",
    "\t\tfinetune seed, 42 : 0.016127807640615752\n",
    "\t\tfinetune seed, 43 : 0.01693453369201816\n",
    "\t\tfinetune seed, 43 : 0.016934537649253817\n",
    "\n",
    "\tpretrained_seed : 43\n",
    "\t\tfinetune seed, 42 : 0.016127807640615752\n",
    "\t\tfinetune seed, 43 : 0.016934537649253817\n",
    "\t\tfinetune seed, 43 : 0.016934537649253817\n",
    "for subsample 0.005 , average: 0.013642482660013599 , std div: 0.0042866484814673075\n",
    "\n",
    "\n",
    "\tpretrained_seed : 42\n",
    "\t\tfinetune seed, 42 : 0.006503492643341365\n",
    "\t\tfinetune seed, 43 : 0.0057518085873838045\n",
    "\t\tfinetune seed, 43 : 0.005751808631648186\n",
    "\n",
    "\tpretrained_seed : 43\n",
    "\t\tfinetune seed, 42 : 0.006385807755328856\n",
    "\t\tfinetune seed, 43 : 0.007358133803500649\n",
    "\t\tfinetune seed, 43 : 0.0073581298993822515\n",
    "\n",
    "\tpretrained_seed : 43\n",
    "\t\tfinetune seed, 42 : 0.006385807627847439\n",
    "\t\tfinetune seed, 43 : 0.007358133803500649\n",
    "\t\tfinetune seed, 43 : 0.0073581319408555\n",
    "for subsample 0.05 , average: 0.006690139410309857 , std div: 0.0006468608232689399\n"
   ]
  },
  {
   "cell_type": "code",
   "execution_count": null,
   "id": "147e0922-da61-4be2-a318-d436326e382b",
   "metadata": {},
   "outputs": [],
   "source": []
  }
 ],
 "metadata": {
  "kernelspec": {
   "display_name": "Python 3 (ipykernel)",
   "language": "python",
   "name": "python3"
  },
  "language_info": {
   "codemirror_mode": {
    "name": "ipython",
    "version": 3
   },
   "file_extension": ".py",
   "mimetype": "text/x-python",
   "name": "python",
   "nbconvert_exporter": "python",
   "pygments_lexer": "ipython3",
   "version": "3.12.6"
  }
 },
 "nbformat": 4,
 "nbformat_minor": 5
}
