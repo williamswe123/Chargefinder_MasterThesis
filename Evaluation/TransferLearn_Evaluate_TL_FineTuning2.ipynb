{
 "cells": [
  {
   "cell_type": "code",
   "execution_count": null,
   "id": "731cfec7-dbc2-478d-8b18-933cbe652bb3",
   "metadata": {},
   "outputs": [],
   "source": [
    "import sys\n",
    "import os\n",
    "import torch.optim as optim\n",
    "import torch.nn as nn\n",
    "import torch\n",
    "import matplotlib.pyplot as plt\n",
    "import numpy as np\n",
    "\n",
    "from torch.optim.lr_scheduler import ReduceLROnPlateau\n",
    "from torch.optim.lr_scheduler import LambdaLR\n",
    "\n",
    "# Get the directory containing the notebook\n",
    "notebook_dir = os.path.dirname(os.path.abspath(\"__file__\"))\n",
    "\n",
    "# Add the directory containing the notebook to sys.path\n",
    "sys.path.append(notebook_dir)\n",
    "\n",
    "# Add the parent directory (which contains the 'dataloaders' directory) to sys.path\n",
    "parent_dir = os.path.abspath(os.path.join(notebook_dir, '.'))\n",
    "sys.path.append(parent_dir)\n"
   ]
  },
  {
   "cell_type": "code",
   "execution_count": null,
   "id": "0c8613b6",
   "metadata": {},
   "outputs": [],
   "source": [
    "from functions.loader import getLoader\n",
    "from functions.display_things import *\n",
    "from functions.trainFuncs import a_proper_training\n",
    "from functions.STGCN import STGCN\n",
    "from TransferLearn_Evaluate_TL_FineTuning import *\n"
   ]
  },
  {
   "cell_type": "code",
   "execution_count": null,
   "id": "b1047763-19d7-4dbf-864f-c6e71c59a5c1",
   "metadata": {},
   "outputs": [],
   "source": [
    "\n",
    "subsamples = [0.01, 0.05, 0.2, 0.5]\n",
    "pretrain_seeds = [42, 43, 44]\n",
    "finetune_seeds = [47, 48, 51]\n",
    "\n",
    "\n",
    "for subsample in subsamples:\n",
    "\n",
    "    mse = []\n",
    "    for pretrain_seed in pretrain_seeds:\n",
    "        print()\n",
    "        print(\"\\tpretrained_seed\", \":\", pretrain_seed)\n",
    "        for finetune_seed in finetune_seeds:\n",
    "            best_model, train_losses, val_losses, test_losses, best_epoch = do_da_test(pretrain_station=\"varberg\",\n",
    "                                                                                       finetune_station=\"malmo\",\n",
    "                                                                                       pretrain_seed=pretrain_seed,\n",
    "                                                                                       finetune_seed=finetune_seed,\n",
    "                                                                                       epochs=50,\n",
    "                                                                                       subsample=subsample,\n",
    "                                                                                       verbose=False)\n",
    "            print(\"\\t\\tfinetune seed,\", finetune_seed, \":\", test_losses[best_epoch])\n",
    "            mse.append(test_losses[best_epoch])\n",
    "            \n",
    "    avg = sum(mse) / len(mse)\n",
    "    std_div = np.std(mse)\n",
    "    \n",
    "    print(\"for subsample\", subsample, \", average:\" , avg, \", std div:\", std_div)\n",
    "    print()\n",
    "    "
   ]
  },
  {
   "cell_type": "code",
   "execution_count": null,
   "id": "051cfa7d-4c53-4326-9fb2-3f6dd1a12d2e",
   "metadata": {},
   "outputs": [],
   "source": []
  }
 ],
 "metadata": {
  "kernelspec": {
   "display_name": "Python 3 (ipykernel)",
   "language": "python",
   "name": "python3"
  },
  "language_info": {
   "codemirror_mode": {
    "name": "ipython",
    "version": 3
   },
   "file_extension": ".py",
   "mimetype": "text/x-python",
   "name": "python",
   "nbconvert_exporter": "python",
   "pygments_lexer": "ipython3",
   "version": "3.12.6"
  }
 },
 "nbformat": 4,
 "nbformat_minor": 5
}
